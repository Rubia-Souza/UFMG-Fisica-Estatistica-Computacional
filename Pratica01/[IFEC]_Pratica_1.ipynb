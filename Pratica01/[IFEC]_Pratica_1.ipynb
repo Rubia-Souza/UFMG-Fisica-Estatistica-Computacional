{
  "cells": [
    {
      "cell_type": "markdown",
      "metadata": {
        "id": "APZYS95SVh7h"
      },
      "source": [
        "# Prática - Monte Carlo: Estimativa de Integrais por Amostragem Direta\n",
        "\n",
        "---\n",
        "\n",
        "**Dupla:**\n",
        "* Diane Fenzi Gonçalves (2019006574)\n",
        "* Rubia Alice Moreira de Souza (2022043507)"
      ]
    },
    {
      "cell_type": "markdown",
      "metadata": {
        "id": "KNZoayMoVpPx"
      },
      "source": [
        "## Imports\n",
        "\n",
        "---\n"
      ]
    },
    {
      "cell_type": "code",
      "execution_count": 1,
      "metadata": {
        "id": "-S-CKt64X_3F"
      },
      "outputs": [],
      "source": [
        "import numpy as np\n",
        "import matplotlib.pyplot as plt\n",
        "from collections.abc import Callable"
      ]
    },
    {
      "cell_type": "markdown",
      "metadata": {
        "id": "DSIyZF_EOBQZ"
      },
      "source": [
        "## Funções Auxiliares\n",
        "\n",
        "---"
      ]
    },
    {
      "cell_type": "markdown",
      "metadata": {
        "id": "R9q0cQRZfzju"
      },
      "source": [
        "Abaixo temos algumas funções que iremos utilizar para fazer os cálculos da prática, além de fazer o print das informações e plot de histogramas dos resultados obtidos."
      ]
    },
    {
      "cell_type": "code",
      "execution_count": 2,
      "metadata": {
        "id": "wCTzaJwBaT-Y"
      },
      "outputs": [],
      "source": [
        "randomNumberGenerator = np.random.default_rng()"
      ]
    },
    {
      "cell_type": "code",
      "execution_count": 3,
      "metadata": {
        "id": "gkwqdGaTZcC1"
      },
      "outputs": [],
      "source": [
        "def gerarNumeroAleatorio(min: float, max: float) -> float:\n",
        "  numeroAleatorio: float = randomNumberGenerator.random()\n",
        "  return (numeroAleatorio * (max - min)) + min"
      ]
    },
    {
      "cell_type": "code",
      "execution_count": 4,
      "metadata": {
        "id": "OkV0hhubjedq"
      },
      "outputs": [],
      "source": [
        "def gerarListaNumerosAleatorios(\n",
        "    min: float,\n",
        "    max: float,\n",
        "    tamanho: int\n",
        "  ) -> list[float]:\n",
        "\n",
        "  return np.random.uniform(\n",
        "    low = min,\n",
        "    high = max,\n",
        "    size = tamanho\n",
        "  )"
      ]
    },
    {
      "cell_type": "code",
      "execution_count": 5,
      "metadata": {
        "id": "5S_zvk71ZVPv"
      },
      "outputs": [],
      "source": [
        "def calcularErroEstatistico(valores: list[float]) -> float:\n",
        "  desvioPadrao: float = valores.std(ddof = 1)\n",
        "  quantidadeValores: int = len(valores)\n",
        "\n",
        "  erroEstatistico: float = desvioPadrao / np.sqrt(quantidadeValores)\n",
        "  return erroEstatistico"
      ]
    },
    {
      "cell_type": "code",
      "execution_count": 6,
      "metadata": {
        "id": "JJcAhiP1ddLS"
      },
      "outputs": [],
      "source": [
        "def printEstatisticas(resultados: list[float]) -> None:\n",
        "  media = resultados.mean()\n",
        "  desvioPadrao = resultados.std(ddof = 1)\n",
        "  erroEstatistico = calcularErroEstatistico(resultados)\n",
        "\n",
        "  print(f'Média: {media}')\n",
        "  print(f'Desvio Padrão: {desvioPadrao}')\n",
        "  print(f'Erro Estatístico: {erroEstatistico}')"
      ]
    },
    {
      "cell_type": "code",
      "execution_count": 7,
      "metadata": {
        "id": "4mOAbqKf4gxX"
      },
      "outputs": [],
      "source": [
        "def gerarHistograma(resultados: list[float]) -> None:\n",
        "  plt.hist(\n",
        "    resultados,\n",
        "    bins = 10,\n",
        "    edgecolor = 'black'\n",
        "  )\n",
        "\n",
        "  plt.xlabel('Values')\n",
        "  plt.ylabel('Frequency')\n",
        "  plt.show()"
      ]
    },
    {
      "cell_type": "markdown",
      "metadata": {
        "id": "NShaQZ3GOJWC"
      },
      "source": [
        "## Funções de Cálculo de Integral\n",
        "\n",
        "---"
      ]
    },
    {
      "cell_type": "markdown",
      "metadata": {
        "id": "skRFZxHvgIwv"
      },
      "source": [
        "Primeiro, realizamos a implementação de Monte Carlo para resolver integrais simples com a função abaixo."
      ]
    },
    {
      "cell_type": "code",
      "execution_count": 98,
      "metadata": {
        "id": "knWMqCgOX4DY"
      },
      "outputs": [],
      "source": [
        "def calcularIntegralSimples(\n",
        "    quantidadeValoresAleatorios: int,\n",
        "    xMin: float,\n",
        "    xMax: float,\n",
        "    expressao: Callable[[float], float]\n",
        "  ) -> float:\n",
        "\n",
        "  listaValoresAleatorios: list[float] = gerarListaNumerosAleatorios(\n",
        "    xMin,\n",
        "    xMax,\n",
        "    quantidadeValoresAleatorios\n",
        "  )\n",
        "\n",
        "  listaValoresExpressao: list[float] = np.array(\n",
        "    [(expressao(valor)) for valor in listaValoresAleatorios]\n",
        "  )\n",
        "\n",
        "  somaValores: float = listaValoresExpressao.sum()\n",
        "  rangeFuncao: float = xMax - xMin\n",
        "\n",
        "  return rangeFuncao / quantidadeValoresAleatorios * somaValores"
      ]
    },
    {
      "cell_type": "markdown",
      "metadata": {
        "id": "6b7LQq37gOSl"
      },
      "source": [
        "Depois, tornamos a solução mais genérica possibilitando resolver integrais múltiplas de \"n\" dimensões.\n",
        "\n",
        "A quantidade de dimensões é derivada a partir da quantidade de tuplas presentes no array de \"dimensoes\" passado por parâmetro. As tuplas, por sua vez, são as faixas de integração da respectiva dimensão."
      ]
    },
    {
      "cell_type": "code",
      "execution_count": 9,
      "metadata": {
        "id": "4QXSRleIeY3v"
      },
      "outputs": [],
      "source": [
        "def calcularIntegralMultipla(\n",
        "    quantidadeValoresAleatorios: int,\n",
        "    dimensoes: list[tuple[float, float]],\n",
        "    expressao: Callable[[list[float]], float]\n",
        "  ) -> float:\n",
        "\n",
        "  def calcularProdutorioFaixasValores(\n",
        "    dimensoes: list[tuple[float, float]]\n",
        "    ) -> float:\n",
        "\n",
        "    rangeDimensoes: list[float] = np.array(\n",
        "      [(max - min) for min, max in dimensoes]\n",
        "    )\n",
        "    return rangeDimensoes.prod()\n",
        "\n",
        "  def calcularSomatorioResultadosExpressao(\n",
        "    quantidadeValoresAleatorios: int,\n",
        "    dimensoes: list[tuple[float, float]],\n",
        "    expressao: Callable[[list[float]], float]\n",
        "    ) -> float:\n",
        "\n",
        "    def gerarNumerosAleatoriosParaDimensoes(\n",
        "      dimensoes: list[tuple[float, float]],\n",
        "      quantidadeValoresAleatorios: int\n",
        "      ) -> list[list[float]]:\n",
        "\n",
        "      quantidadeDimensoes: int = len(dimensoes)\n",
        "      listaValores: list[list[float]] = [None] * quantidadeValoresAleatorios\n",
        "\n",
        "      for i in range(quantidadeValoresAleatorios):\n",
        "        valores: list[float] = np.zeros(quantidadeDimensoes)\n",
        "\n",
        "        for j in range(quantidadeDimensoes):\n",
        "          xMin, xMax = dimensoes[j]\n",
        "          valores[j] = gerarNumeroAleatorio(xMin, xMax)\n",
        "\n",
        "        listaValores[i] = valores\n",
        "\n",
        "      return np.array(listaValores)\n",
        "\n",
        "    listaValoresAleatorios: list[list[float]] = gerarNumerosAleatoriosParaDimensoes(\n",
        "      dimensoes,\n",
        "      quantidadeValoresAleatorios\n",
        "    )\n",
        "\n",
        "    resultados: list[float] = np.array(\n",
        "      [(expressao(valores)) for valores in listaValoresAleatorios]\n",
        "    )\n",
        "\n",
        "    return resultados.sum()\n",
        "\n",
        "  produtoFaixaValores: float = calcularProdutorioFaixasValores(dimensoes)\n",
        "  somaResultadosExpressao: float = calcularSomatorioResultadosExpressao(\n",
        "      quantidadeValoresAleatorios,\n",
        "      dimensoes,\n",
        "      expressao\n",
        "  )\n",
        "\n",
        "  return produtoFaixaValores * somaResultadosExpressao / quantidadeValoresAleatorios"
      ]
    },
    {
      "cell_type": "markdown",
      "metadata": {
        "id": "ZFf7vb5lOSTm"
      },
      "source": [
        "## Funções de Teste\n",
        "\n",
        "---"
      ]
    },
    {
      "cell_type": "markdown",
      "metadata": {
        "id": "47ORMlOHhl9y"
      },
      "source": [
        "Abaixo nós temos as funções que iremos calcular as integrais delas por meio do Monte Carlo."
      ]
    },
    {
      "cell_type": "code",
      "execution_count": 10,
      "metadata": {
        "id": "Ywhchd9tVQ-T"
      },
      "outputs": [],
      "source": [
        "def primeiraFuncao(x: float) -> float:\n",
        "  return np.exp(-(x ** 2))"
      ]
    },
    {
      "cell_type": "code",
      "execution_count": 11,
      "metadata": {
        "id": "NhNFT-352ht7"
      },
      "outputs": [],
      "source": [
        "def segundaFuncao(valores: list[float]) -> float:\n",
        "  x1: float = valores[0]\n",
        "  x2: float = valores[1]\n",
        "  x3: float = valores[2]\n",
        "\n",
        "  return ((x1 * (x2 ** 2)) / x3)"
      ]
    },
    {
      "cell_type": "code",
      "execution_count": 12,
      "metadata": {
        "id": "mZ8FVUz8MCcT"
      },
      "outputs": [],
      "source": [
        "def terceiraFuncao(valores: list[float]) -> float:\n",
        "  x1: float = valores[0]\n",
        "  x2: float = valores[1]\n",
        "  x3: float = valores[2]\n",
        "\n",
        "  y1: float = valores[3]\n",
        "  y2: float = valores[4]\n",
        "  y3: float = valores[5]\n",
        "\n",
        "  z1: float = valores[6]\n",
        "  z2: float = valores[7]\n",
        "  z3: float = valores[8]\n",
        "\n",
        "  resultadoX: float = (x1 + x2) * x3\n",
        "  resultadoY: float = (y1 + y2) * y3\n",
        "  resultadoZ: float = (z1 + z2) * z3\n",
        "\n",
        "  return 1 / (resultadoX + resultadoY + resultadoZ)"
      ]
    },
    {
      "cell_type": "markdown",
      "metadata": {
        "id": "6Vbolh07OcV2"
      },
      "source": [
        "## Cálculos das Integrais por Monte Carlo\n",
        "\n",
        "---"
      ]
    },
    {
      "cell_type": "markdown",
      "metadata": {
        "id": "-f7yS0RSQxcQ"
      },
      "source": [
        "### Cálculo Integral 1\n",
        "\n",
        "---"
      ]
    },
    {
      "cell_type": "code",
      "execution_count": 47,
      "metadata": {
        "colab": {
          "base_uri": "https://localhost:8080/"
        },
        "id": "Qvw6SszSdxaf",
        "outputId": "9b81d505-bf82-48ab-8048-cc58189937c8"
      },
      "outputs": [
        {
          "name": "stdout",
          "output_type": "stream",
          "text": [
            "O resultado da integral para a primeira integral é: 1.7584364284040623\n"
          ]
        }
      ],
      "source": [
        "resultado: float = calcularIntegralSimples(\n",
        "    quantidadeValoresAleatorios = 10000,\n",
        "    xMin = -3,\n",
        "    xMax = 3,\n",
        "    expressao = primeiraFuncao\n",
        ")\n",
        "\n",
        "print(f\"O resultado da integral para a primeira integral é: {resultado}\")"
      ]
    },
    {
      "cell_type": "markdown",
      "metadata": {
        "id": "8EMlCPj0iBbz"
      },
      "source": [
        "Acima temos o resultado obtido para o cálculo de uma amostra para a primeira integral, utilizando 10.000 valores aleatórios.\n",
        "\n",
        "É possível notar que esse valor se aproxima bastante do valor real da integral. Segundo o Wolfram Alpha, o valor estimado seria de 1.772.\n",
        "\n",
        "No entanto, ainda seria possível melhorar a estimativa realizando várias amostras, que é o que será feito pelo trecho de código a seguir.\n",
        "\n",
        "Iremos realizar testes com 1000 amostras e variando a quantidade de números aleatórios. Primeiro faremos com 100, depois 1000 e, por fim, 10.000.\n"
      ]
    },
    {
      "cell_type": "code",
      "execution_count": 14,
      "metadata": {
        "id": "uKaOv6T9boYO"
      },
      "outputs": [],
      "source": [
        "def calcularAmostrasPrimeiraIntegral(\n",
        "  quantidadeAmostras: int,\n",
        "  quantidadeNumerosAleatorios: int\n",
        "  ) -> list[float]:\n",
        "\n",
        "  resultados: list[float] = np.zeros(quantidadeAmostras)\n",
        "\n",
        "  for i in range(quantidadeAmostras):\n",
        "    resultados[i] = calcularIntegralSimples(\n",
        "      quantidadeValoresAleatorios = quantidadeNumerosAleatorios,\n",
        "      xMin = -3,\n",
        "      xMax = 3,\n",
        "      expressao = primeiraFuncao\n",
        "    )\n",
        "\n",
        "  return resultados"
      ]
    },
    {
      "cell_type": "markdown",
      "metadata": {
        "id": "VN46ekNijTu-"
      },
      "source": [
        "#### Testes de 1.000 amostras com 100 valores aleatórios\n",
        "\n",
        "---"
      ]
    },
    {
      "cell_type": "code",
      "execution_count": 15,
      "metadata": {
        "id": "vyyuqdaSb0k7"
      },
      "outputs": [],
      "source": [
        "resultados: list[float] = calcularAmostrasPrimeiraIntegral(\n",
        "    quantidadeAmostras = 1000,\n",
        "    quantidadeNumerosAleatorios = 100\n",
        ")"
      ]
    },
    {
      "cell_type": "code",
      "execution_count": 16,
      "metadata": {
        "colab": {
          "base_uri": "https://localhost:8080/"
        },
        "id": "DYpDhne9eJES",
        "outputId": "86f6411d-60ec-489c-a111-f16222653768"
      },
      "outputs": [
        {
          "name": "stdout",
          "output_type": "stream",
          "text": [
            "Média: 1.7736023839144455\n",
            "Desvio Padrão: 0.20689421596415716\n",
            "Erro Estatístico: 0.006542569571615063\n"
          ]
        }
      ],
      "source": [
        "printEstatisticas(resultados)"
      ]
    },
    {
      "cell_type": "code",
      "execution_count": 17,
      "metadata": {
        "colab": {
          "base_uri": "https://localhost:8080/",
          "height": 469
        },
        "id": "ysyEWOwaeKVQ",
        "outputId": "441a09af-e878-451e-bde7-7f28db74c506"
      },
      "outputs": [
        {
          "data": {
            "image/png": "[encoded data removed]",
            "text/plain": [
              "<Figure size 640x480 with 1 Axes>"
            ]
          },
          "metadata": {},
          "output_type": "display_data"
        }
      ],
      "source": [
        "gerarHistograma(resultados)"
      ]
    },
    {
      "cell_type": "markdown",
      "metadata": {
        "id": "reMncbLajcff"
      },
      "source": [
        "#### Testes de 1.000 amostras com 1.000 valores aleatórios\n",
        "\n",
        "---"
      ]
    },
    {
      "cell_type": "code",
      "execution_count": 48,
      "metadata": {
        "id": "6O24hx505o_W"
      },
      "outputs": [],
      "source": [
        "resultados: list[float] = calcularAmostrasPrimeiraIntegral(\n",
        "    quantidadeAmostras = 1000,\n",
        "    quantidadeNumerosAleatorios = 1000\n",
        ")"
      ]
    },
    {
      "cell_type": "code",
      "execution_count": 49,
      "metadata": {
        "colab": {
          "base_uri": "https://localhost:8080/"
        },
        "id": "g2THbaPTeYFe",
        "outputId": "bc67aa81-ca5c-4df7-fa57-a5355cbec83f"
      },
      "outputs": [
        {
          "name": "stdout",
          "output_type": "stream",
          "text": [
            "Média: 1.7689685445930963\n",
            "Desvio Padrão: 0.06648813370248488\n",
            "Erro Estatístico: 0.0021025393987365625\n"
          ]
        }
      ],
      "source": [
        "printEstatisticas(resultados)"
      ]
    },
    {
      "cell_type": "code",
      "execution_count": 20,
      "metadata": {
        "colab": {
          "base_uri": "https://localhost:8080/",
          "height": 472
        },
        "id": "rrUnYE_UeZX2",
        "outputId": "22853882-08f2-4198-b2ec-af641c477c4a"
      },
      "outputs": [
        {
          "data": {
            "image/png": "[encoded data removed]",
            "text/plain": [
              "<Figure size 640x480 with 1 Axes>"
            ]
          },
          "metadata": {},
          "output_type": "display_data"
        }
      ],
      "source": [
        "gerarHistograma(resultados)"
      ]
    },
    {
      "cell_type": "markdown",
      "metadata": {
        "id": "VPBRWmj5ji1D"
      },
      "source": [
        "#### Testes de 1.000 amostras com 10.000 valores aleatórios\n",
        "\n",
        "---"
      ]
    },
    {
      "cell_type": "code",
      "execution_count": 55,
      "metadata": {
        "id": "N8fSoc7m5o3b"
      },
      "outputs": [],
      "source": [
        "resultados: list[float] = calcularAmostrasPrimeiraIntegral(\n",
        "    quantidadeAmostras = 1000,\n",
        "    quantidadeNumerosAleatorios = 10000\n",
        ")"
      ]
    },
    {
      "cell_type": "code",
      "execution_count": 56,
      "metadata": {
        "colab": {
          "base_uri": "https://localhost:8080/"
        },
        "id": "cQ3lFQQ05ovm",
        "outputId": "a504f155-cda6-403b-adee-63c0967158b7"
      },
      "outputs": [
        {
          "name": "stdout",
          "output_type": "stream",
          "text": [
            "Média: 1.7726895643977405\n",
            "Desvio Padrão: 0.020025956719297997\n",
            "Erro Estatístico: 0.000633276355569349\n"
          ]
        }
      ],
      "source": [
        "printEstatisticas(resultados)"
      ]
    },
    {
      "cell_type": "code",
      "execution_count": 23,
      "metadata": {
        "colab": {
          "base_uri": "https://localhost:8080/",
          "height": 469
        },
        "id": "fkacsL5Defg7",
        "outputId": "4cbc4957-1305-4c2b-fa5e-54c1dcb38f7b"
      },
      "outputs": [
        {
          "data": {
            "image/png": "[encoded data removed]",
            "text/plain": [
              "<Figure size 640x480 with 1 Axes>"
            ]
          },
          "metadata": {},
          "output_type": "display_data"
        }
      ],
      "source": [
        "gerarHistograma(resultados)"
      ]
    },
    {
      "cell_type": "markdown",
      "metadata": {
        "id": "4rjv4x_YjmkE"
      },
      "source": [
        "#### Análise dos resultados\n",
        "\n",
        "---"
      ]
    },
    {
      "cell_type": "markdown",
      "metadata": {
        "id": "36TipW3Zjq4X"
      },
      "source": [
        "Em suma, obtivemos como resultados para 1.000 amostras:\n",
        "\n",
        "**100 Valores aleatórios:**\n",
        "* Média: 1.7736023839144455\n",
        "* Desvio Padrão: 0.20689421596415716\n",
        "* Erro Estatístico: 0.006542569571615063\n",
        "\n",
        "**1.000 Valores aleatórios:**\n",
        "* Média: 1.7689685445930963\n",
        "* Desvio Padrão: 0.06648813370248488\n",
        "* Erro Estatístico: 0.0021025393987365625\n",
        "\n",
        "**10.000 Valores aleatórios:**\n",
        "* Média: 1.7726895643977405\n",
        "* Desvio Padrão: 0.020025956719297997\n",
        "* Erro Estatístico: 0.000633276355569349\n",
        "\n",
        "**Valor exato pelo Wolfram Alpha:** 1.772"
      ]
    },
    {
      "cell_type": "markdown",
      "metadata": {
        "id": "wN8rnSySkRyl"
      },
      "source": [
        "É possível notar que quanto mais valores aleatórios são utilizados para estimar o valor da integral, mais preciso será o resultado, uma vez que o erro estatístico tende a diminuir com base na quantidade de valores que são utilizados."
      ]
    },
    {
      "cell_type": "markdown",
      "metadata": {
        "id": "TNH_y6pTQ2YI"
      },
      "source": [
        "### Cálculo Integral 2\n",
        "\n",
        "---"
      ]
    },
    {
      "cell_type": "markdown",
      "metadata": {
        "id": "eNmAduw6la39"
      },
      "source": [
        "Agora iremos realizar o mesmo processo anterior, mas para uma faixa de integração diferente. Desta vez, iremos integrar entre (-10, 10) ao invés de (-3, 3).\n",
        "\n",
        "O resultado para 10.000 valores aleatórios é o seguinte:"
      ]
    },
    {
      "cell_type": "code",
      "execution_count": 77,
      "metadata": {
        "colab": {
          "base_uri": "https://localhost:8080/"
        },
        "id": "D8EKO098iA8B",
        "outputId": "957b85c4-8561-4f9a-eca4-01aedb865097"
      },
      "outputs": [
        {
          "name": "stdout",
          "output_type": "stream",
          "text": [
            "O resultado da integral para a terceira integral é: 1.7797005936127812\n"
          ]
        }
      ],
      "source": [
        "resultado: float = calcularIntegralSimples(\n",
        "    quantidadeValoresAleatorios = 10000,\n",
        "    xMin = -10,\n",
        "    xMax = 10,\n",
        "    expressao = primeiraFuncao\n",
        ")\n",
        "\n",
        "print(f\"O resultado da integral para a terceira integral é: {resultado}\")"
      ]
    },
    {
      "cell_type": "markdown",
      "metadata": {
        "id": "TaOeU4StlxlC"
      },
      "source": [
        "Realizando testes de 1.000 para a quantidade de números aleatórios de 100, 1.000 e 10.000:"
      ]
    },
    {
      "cell_type": "code",
      "execution_count": 25,
      "metadata": {
        "id": "KZ6Vlka26VfM"
      },
      "outputs": [],
      "source": [
        "def calcularAmostrasSegundaIntegral(\n",
        "    quantidadeAmostras: int,\n",
        "    quantidadeNumerosAleatorios: int\n",
        "  ) -> list[float]:\n",
        "\n",
        "  resultados: list[float] = np.zeros(quantidadeAmostras)\n",
        "\n",
        "  for i in range(quantidadeAmostras):\n",
        "    resultados[i] = calcularIntegralSimples(\n",
        "      quantidadeValoresAleatorios = quantidadeNumerosAleatorios,\n",
        "      xMin = -10,\n",
        "      xMax = 10,\n",
        "      expressao = primeiraFuncao\n",
        "    )\n",
        "\n",
        "  return resultados"
      ]
    },
    {
      "cell_type": "markdown",
      "metadata": {
        "id": "yJDghYuXmA-T"
      },
      "source": [
        "#### Testes de 1.000 amostras com 100 valores aleatórios\n",
        "\n",
        "---"
      ]
    },
    {
      "cell_type": "code",
      "execution_count": 26,
      "metadata": {
        "id": "Zw6sYzlJ7KYR"
      },
      "outputs": [],
      "source": [
        "resultados: list[float] = calcularAmostrasSegundaIntegral(\n",
        "    quantidadeAmostras = 1000,\n",
        "    quantidadeNumerosAleatorios = 100\n",
        ")"
      ]
    },
    {
      "cell_type": "code",
      "execution_count": 27,
      "metadata": {
        "colab": {
          "base_uri": "https://localhost:8080/"
        },
        "id": "iXeFykaGfZnV",
        "outputId": "9221bb23-a3d8-4eee-cd84-b7d0cc0365c3"
      },
      "outputs": [
        {
          "name": "stdout",
          "output_type": "stream",
          "text": [
            "Média: 1.7596835019908799\n",
            "Desvio Padrão: 0.45345027095855944\n",
            "Erro Estatístico: 0.01433935661849551\n"
          ]
        }
      ],
      "source": [
        "printEstatisticas(resultados)"
      ]
    },
    {
      "cell_type": "code",
      "execution_count": 28,
      "metadata": {
        "colab": {
          "base_uri": "https://localhost:8080/",
          "height": 470
        },
        "id": "N_vOqiGRfbDg",
        "outputId": "cae1eacf-035b-4c3b-d78a-1e43ecb1c1e9"
      },
      "outputs": [
        {
          "data": {
            "image/png": "[encoded data removed]",
            "text/plain": [
              "<Figure size 640x480 with 1 Axes>"
            ]
          },
          "metadata": {},
          "output_type": "display_data"
        }
      ],
      "source": [
        "gerarHistograma(resultados)"
      ]
    },
    {
      "cell_type": "markdown",
      "metadata": {
        "id": "s9SarMVqmCZ0"
      },
      "source": [
        "#### Testes de 1.000 amostras com 1.000 valores aleatórios\n",
        "\n",
        "---"
      ]
    },
    {
      "cell_type": "code",
      "execution_count": 29,
      "metadata": {
        "id": "Jok-J-ar7NAM"
      },
      "outputs": [],
      "source": [
        "resultados: list[float] = calcularAmostrasSegundaIntegral(\n",
        "    quantidadeAmostras = 1000,\n",
        "    quantidadeNumerosAleatorios = 1000\n",
        ")"
      ]
    },
    {
      "cell_type": "code",
      "execution_count": 30,
      "metadata": {
        "colab": {
          "base_uri": "https://localhost:8080/"
        },
        "id": "cM4p6U3Vfc5o",
        "outputId": "8336e3c3-63ff-490f-d4dc-c1d66a41e98e"
      },
      "outputs": [
        {
          "name": "stdout",
          "output_type": "stream",
          "text": [
            "Média: 1.776451977347635\n",
            "Desvio Padrão: 0.14688522735969892\n",
            "Erro Estatístico: 0.004644918730883291\n"
          ]
        }
      ],
      "source": [
        "printEstatisticas(resultados)"
      ]
    },
    {
      "cell_type": "code",
      "execution_count": 31,
      "metadata": {
        "colab": {
          "base_uri": "https://localhost:8080/",
          "height": 469
        },
        "id": "E2Mr-uLCfeHA",
        "outputId": "d26e3495-c8cf-42f0-f878-ccbdf8776764"
      },
      "outputs": [
        {
          "data": {
            "image/png": "[encoded data removed]",
            "text/plain": [
              "<Figure size 640x480 with 1 Axes>"
            ]
          },
          "metadata": {},
          "output_type": "display_data"
        }
      ],
      "source": [
        "gerarHistograma(resultados)"
      ]
    },
    {
      "cell_type": "markdown",
      "metadata": {
        "id": "ZX8CjCAmmEG3"
      },
      "source": [
        "#### Testes de 1.000 amostras com 10.000 valores aleatórios\n",
        "\n",
        "---"
      ]
    },
    {
      "cell_type": "code",
      "execution_count": 32,
      "metadata": {
        "id": "hoeyOzeb7Mqu"
      },
      "outputs": [],
      "source": [
        "resultados: list[float] = calcularAmostrasSegundaIntegral(\n",
        "    quantidadeAmostras = 1000,\n",
        "    quantidadeNumerosAleatorios = 10000\n",
        ")"
      ]
    },
    {
      "cell_type": "code",
      "execution_count": 33,
      "metadata": {
        "colab": {
          "base_uri": "https://localhost:8080/"
        },
        "id": "9nl_wB4BfgOp",
        "outputId": "05cfc085-5919-4b30-92fe-794627a9e59c"
      },
      "outputs": [
        {
          "name": "stdout",
          "output_type": "stream",
          "text": [
            "Média: 1.7702461772818223\n",
            "Desvio Padrão: 0.046132756256970074\n",
            "Erro Estatístico: 0.001458845845134095\n"
          ]
        }
      ],
      "source": [
        "printEstatisticas(resultados)"
      ]
    },
    {
      "cell_type": "code",
      "execution_count": 34,
      "metadata": {
        "colab": {
          "base_uri": "https://localhost:8080/",
          "height": 469
        },
        "id": "SsYMDCOqfhNm",
        "outputId": "2ced6c62-a914-440c-ddaa-b7098367e427"
      },
      "outputs": [
        {
          "data": {
            "image/png": "[encoded data removed]",
            "text/plain": [
              "<Figure size 640x480 with 1 Axes>"
            ]
          },
          "metadata": {},
          "output_type": "display_data"
        }
      ],
      "source": [
        "gerarHistograma(resultados)"
      ]
    },
    {
      "cell_type": "markdown",
      "metadata": {
        "id": "NAUZizIJmGDe"
      },
      "source": [
        "#### Análise dos resultados\n",
        "\n",
        "---\n",
        "\n",
        "**100 Valores aleatórios:**\n",
        "* Média: 1.7596835019908799\n",
        "* Desvio Padrão: 0.45345027095855944\n",
        "* Erro Estatístico: 0.01433935661849551\n",
        "\n",
        "**1.000 Valores aleatórios:**\n",
        "* Média: 1.776451977347635\n",
        "* Desvio Padrão: 0.14688522735969892\n",
        "* Erro Estatístico: 0.004644918730883291\n",
        "\n",
        "**10.000 Valores aleatórios:**\n",
        "* Média: 1.7702461772818223\n",
        "* Desvio Padrão: 0.046132756256970074\n",
        "* Erro Estatístico: 0.001458845845134095\n",
        "\n",
        "**Valor exato pelo Wolfram Alpha:** 1.772"
      ]
    },
    {
      "cell_type": "markdown",
      "metadata": {
        "id": "_MUSanfbml-x"
      },
      "source": [
        "Novamente, é possível observar que quanto mais valores aleatórios são utilizados menor o erro estatístico e, por consequência, mais próximo os resultados estimados são do valor real.\n"
      ]
    },
    {
      "cell_type": "markdown",
      "metadata": {
        "id": "X_rLz5nIQ5fB"
      },
      "source": [
        "### Cálculo Integral 3\n",
        "\n",
        "---\n",
        "\n"
      ]
    },
    {
      "cell_type": "markdown",
      "metadata": {
        "id": "MDiTaO91nC06"
      },
      "source": [
        "Agora vamos realizar as mesmas analises, mas para integrais múltiplas. Neste caso, iremos trabalhar com uma função em 3 dimensões.\n",
        "\n",
        "O resultado para uma amostra da função com 10.000 valores aleatórios é o seguinte:"
      ]
    },
    {
      "cell_type": "code",
      "execution_count": 60,
      "metadata": {
        "colab": {
          "base_uri": "https://localhost:8080/"
        },
        "id": "dds8H92oi8dV",
        "outputId": "bb2a070e-f565-4c76-c2e8-a68ed32f1ae5"
      },
      "outputs": [
        {
          "name": "stdout",
          "output_type": "stream",
          "text": [
            "O resultado da integral para a terceira integral é: 0.00457200670490661\n"
          ]
        }
      ],
      "source": [
        "resultado: float = calcularIntegralMultipla(\n",
        "    quantidadeValoresAleatorios = 10000,\n",
        "    dimensoes = [(-1, 1), (0, 1), (1, 2)],\n",
        "    expressao = segundaFuncao\n",
        ")\n",
        "\n",
        "print(f\"O resultado da integral para a terceira integral é: {resultado}\")"
      ]
    },
    {
      "cell_type": "markdown",
      "metadata": {
        "id": "XMqUO9qCpHhS"
      },
      "source": [
        "Realizando novamente os testes para diversas amostras:"
      ]
    },
    {
      "cell_type": "code",
      "execution_count": 36,
      "metadata": {
        "id": "RzM3tUCKf9kE"
      },
      "outputs": [],
      "source": [
        "def calcularAmostrasTerceiraIntegral(\n",
        "    quantidadeAmostras: int,\n",
        "    quantidadeNumerosAleatorios: int\n",
        "  ) -> list[float]:\n",
        "\n",
        "  resultados: list[float] = np.zeros(quantidadeAmostras)\n",
        "\n",
        "  for i in range(quantidadeAmostras):\n",
        "    resultados[i] = calcularIntegralMultipla(\n",
        "      quantidadeValoresAleatorios = quantidadeNumerosAleatorios,\n",
        "      dimensoes = [(-1, 1), (0, 1), (1, 2)],\n",
        "      expressao = segundaFuncao\n",
        "    )\n",
        "\n",
        "  return resultados"
      ]
    },
    {
      "cell_type": "markdown",
      "metadata": {
        "id": "jDuuqXBpouRh"
      },
      "source": [
        "#### Testes de 1.000 amostras com 100 valores aleatórios\n",
        "\n",
        "---"
      ]
    },
    {
      "cell_type": "code",
      "execution_count": 37,
      "metadata": {
        "id": "N85y3BG3gIxT"
      },
      "outputs": [],
      "source": [
        "resultados: list[float] = calcularAmostrasTerceiraIntegral(\n",
        "    quantidadeAmostras = 1000,\n",
        "    quantidadeNumerosAleatorios = 100\n",
        ")"
      ]
    },
    {
      "cell_type": "code",
      "execution_count": 38,
      "metadata": {
        "colab": {
          "base_uri": "https://localhost:8080/"
        },
        "id": "1zJmtO-mgNi4",
        "outputId": "009235b0-0551-43a3-9109-e7b3bd7a4005"
      },
      "outputs": [
        {
          "name": "stdout",
          "output_type": "stream",
          "text": [
            "Média: -0.00063164123948017\n",
            "Desvio Padrão: 0.03690562930486397\n",
            "Erro Estatístico: 0.001167058470852268\n"
          ]
        }
      ],
      "source": [
        "printEstatisticas(resultados)"
      ]
    },
    {
      "cell_type": "code",
      "execution_count": 39,
      "metadata": {
        "colab": {
          "base_uri": "https://localhost:8080/",
          "height": 469
        },
        "id": "iug8wPCKgSpG",
        "outputId": "62d9b5d9-0510-444c-fb80-14a6eb7814cf"
      },
      "outputs": [
        {
          "data": {
            "image/png": "[encoded data removed]",
            "text/plain": [
              "<Figure size 640x480 with 1 Axes>"
            ]
          },
          "metadata": {},
          "output_type": "display_data"
        }
      ],
      "source": [
        "gerarHistograma(resultados)"
      ]
    },
    {
      "cell_type": "markdown",
      "metadata": {
        "id": "w2QtyVg1owNb"
      },
      "source": [
        "#### Testes de 1.000 amostras com 1.000 valores aleatórios\n",
        "\n",
        "---"
      ]
    },
    {
      "cell_type": "code",
      "execution_count": 40,
      "metadata": {
        "id": "OvFrHp1fgK6h"
      },
      "outputs": [],
      "source": [
        "resultados: list[float] = calcularAmostrasTerceiraIntegral(\n",
        "    quantidadeAmostras = 1000,\n",
        "    quantidadeNumerosAleatorios = 1000\n",
        ")"
      ]
    },
    {
      "cell_type": "code",
      "execution_count": 41,
      "metadata": {
        "colab": {
          "base_uri": "https://localhost:8080/"
        },
        "id": "x25IJULggUG0",
        "outputId": "eb61d5a1-720c-4f4b-ac2c-fb0a98ec0470"
      },
      "outputs": [
        {
          "name": "stdout",
          "output_type": "stream",
          "text": [
            "Média: -0.00025672370163192263\n",
            "Desvio Padrão: 0.011915826145260572\n",
            "Erro Estatístico: 0.000376811508216078\n"
          ]
        }
      ],
      "source": [
        "printEstatisticas(resultados)"
      ]
    },
    {
      "cell_type": "code",
      "execution_count": 42,
      "metadata": {
        "colab": {
          "base_uri": "https://localhost:8080/",
          "height": 469
        },
        "id": "lf6MPqb1gVqB",
        "outputId": "cfab8025-4d18-4a22-901e-7cc688e4f173"
      },
      "outputs": [
        {
          "data": {
            "image/png": "[encoded data removed]",
            "text/plain": [
              "<Figure size 640x480 with 1 Axes>"
            ]
          },
          "metadata": {},
          "output_type": "display_data"
        }
      ],
      "source": [
        "gerarHistograma(resultados)"
      ]
    },
    {
      "cell_type": "markdown",
      "metadata": {
        "id": "4g2PnghuoyqE"
      },
      "source": [
        "#### Testes de 1.000 amostras com 10.000 valores aleatórios\n",
        "\n",
        "---"
      ]
    },
    {
      "cell_type": "code",
      "execution_count": 43,
      "metadata": {
        "id": "HUNNM_cTgLTT"
      },
      "outputs": [],
      "source": [
        "resultados: list[float] = calcularAmostrasTerceiraIntegral(\n",
        "    quantidadeAmostras = 1000,\n",
        "    quantidadeNumerosAleatorios = 10000\n",
        ")"
      ]
    },
    {
      "cell_type": "code",
      "execution_count": 44,
      "metadata": {
        "colab": {
          "base_uri": "https://localhost:8080/"
        },
        "id": "C93__LwYgU3k",
        "outputId": "25a4640f-0a34-4d31-8d05-a50c4b78e592"
      },
      "outputs": [
        {
          "name": "stdout",
          "output_type": "stream",
          "text": [
            "Média: -0.00012053921961977924\n",
            "Desvio Padrão: 0.0035835693409296088\n",
            "Erro Estatístico: 0.00011332241270486025\n"
          ]
        }
      ],
      "source": [
        "printEstatisticas(resultados)"
      ]
    },
    {
      "cell_type": "code",
      "execution_count": 45,
      "metadata": {
        "colab": {
          "base_uri": "https://localhost:8080/",
          "height": 469
        },
        "id": "Q2_CLXRWgWkr",
        "outputId": "92dbb879-0e94-4e08-ca89-392ae1509482"
      },
      "outputs": [
        {
          "data": {
            "image/png": "[encoded data removed]",
            "text/plain": [
              "<Figure size 640x480 with 1 Axes>"
            ]
          },
          "metadata": {},
          "output_type": "display_data"
        }
      ],
      "source": [
        "gerarHistograma(resultados)"
      ]
    },
    {
      "cell_type": "markdown",
      "metadata": {
        "id": "y553PSrgo_6Y"
      },
      "source": [
        "#### Análise dos resultados\n",
        "\n",
        "---\n",
        "\n",
        "**100 Valores aleatórios:**\n",
        "* Média: -0.00063164123948017\n",
        "* Desvio Padrão: 0.03690562930486397\n",
        "* Erro Estatístico: 0.001167058470852268\n",
        "\n",
        "**1.000 Valores aleatórios:**\n",
        "* Média: -0.00025672370163192263\n",
        "* Desvio Padrão: 0.011915826145260572\n",
        "* Erro Estatístico: 0.000376811508216078\n",
        "\n",
        "**10.000 Valores aleatórios:**\n",
        "* Média: -0.00012053921961977924\n",
        "* Desvio Padrão: 0.0035835693409296088\n",
        "* Erro Estatístico: 0.00011332241270486025\n",
        "\n",
        "**Valor exato pelo Wolfram Alpha:** 0"
      ]
    },
    {
      "cell_type": "markdown",
      "metadata": {
        "id": "1OsKWsCUsrP0"
      },
      "source": [
        "Neste caso, estamos trabalhando com uma função ímpar, que possui simetria em relação à origem. Como estamos integrando de (-1, 1), a parte positiva e negativa se cancelam, tendo como resultado 0."
      ]
    },
    {
      "cell_type": "markdown",
      "metadata": {
        "id": "v4bM32QMQ6pZ"
      },
      "source": [
        "### Cálculo Integral 4\n",
        "\n",
        "---"
      ]
    },
    {
      "cell_type": "markdown",
      "metadata": {
        "id": "H1ZZhAXVpyhz"
      },
      "source": [
        "Por fim, podemos expandir isso para \"n\" dimensões. Neste caso, iremos realizar avaliar uma integral com 9 dimensões em que todos intervalos de integração são entre (0, 1):"
      ]
    },
    {
      "cell_type": "code",
      "execution_count": 89,
      "metadata": {
        "colab": {
          "base_uri": "https://localhost:8080/"
        },
        "id": "h9raysMmMyXx",
        "outputId": "7c5c117c-3fef-4b80-e60a-48aca828586b"
      },
      "outputs": [
        {
          "name": "stdout",
          "output_type": "stream",
          "text": [
            "O resultado da integral para a terceira integral é: 0.860144012179394\n"
          ]
        }
      ],
      "source": [
        "resultado: float = calcularIntegralMultipla(\n",
        "    quantidadeValoresAleatorios = 1000,\n",
        "    dimensoes = [(0, 1)] * 9,\n",
        "    expressao = terceiraFuncao\n",
        ")\n",
        "\n",
        "print(f\"O resultado da integral para a terceira integral é: {resultado}\")"
      ]
    },
    {
      "cell_type": "markdown",
      "metadata": {
        "id": "8BqKk8opq2FB"
      },
      "source": [
        "Novamente, se testarmos para uma quantidade muito grande de amostras e valores aleatórios, iremos chegar em valores cada vez mais próximos do resultado real da integral.\n",
        "\n",
        "Neste caso, vamos testar dois extremos. Primeiro, testamos 10 amostras e 10 números aleatórios, que deve dar um erro estatístico alto. Depois, tentaremos 10.000 amostras e 10.000 números aleatórios para a integral com 9 dimensões."
      ]
    },
    {
      "cell_type": "code",
      "execution_count": 91,
      "metadata": {
        "id": "A-Ztc-P5qedq"
      },
      "outputs": [],
      "source": [
        "def calcularAmostrasTerceiraIntegral(\n",
        "    quantidadeAmostras: int,\n",
        "    quantidadeNumerosAleatorios: int\n",
        "  ) -> list[float]:\n",
        "\n",
        "  resultados: list[float] = np.zeros(quantidadeAmostras)\n",
        "\n",
        "  for i in range(quantidadeAmostras):\n",
        "    resultados[i] = calcularIntegralMultipla(\n",
        "      quantidadeValoresAleatorios = quantidadeNumerosAleatorios,\n",
        "      dimensoes = [(0, 1)] * 9,\n",
        "      expressao = terceiraFuncao\n",
        "    )\n",
        "\n",
        "  return resultados"
      ]
    },
    {
      "cell_type": "markdown",
      "metadata": {
        "id": "B38QX9Wdr-WS"
      },
      "source": [
        "#### Testes de 10 amostras com 10 valores aleatórios\n",
        "\n",
        "---"
      ]
    },
    {
      "cell_type": "code",
      "execution_count": 95,
      "metadata": {
        "id": "1w8DMRMFrY5g"
      },
      "outputs": [],
      "source": [
        "resultados: list[float] = calcularAmostrasTerceiraIntegral(\n",
        "    quantidadeAmostras = 10,\n",
        "    quantidadeNumerosAleatorios = 10\n",
        ")"
      ]
    },
    {
      "cell_type": "code",
      "execution_count": 96,
      "metadata": {
        "colab": {
          "base_uri": "https://localhost:8080/"
        },
        "id": "Ky2WRhDcre20",
        "outputId": "73d89016-8019-4e12-f47f-0dde2117d26d"
      },
      "outputs": [
        {
          "name": "stdout",
          "output_type": "stream",
          "text": [
            "Média: 0.9107430136514919\n",
            "Desvio Padrão: 0.19191948078062634\n",
            "Erro Estatístico: 0.06069026866236893\n"
          ]
        }
      ],
      "source": [
        "printEstatisticas(resultados)"
      ]
    },
    {
      "cell_type": "code",
      "execution_count": 97,
      "metadata": {
        "colab": {
          "base_uri": "https://localhost:8080/",
          "height": 469
        },
        "id": "cv-yKLmErfaq",
        "outputId": "f024bf52-3818-4d28-e8b4-4351b8069c88"
      },
      "outputs": [
        {
          "data": {
            "image/png": "[encoded data removed]",
            "text/plain": [
              "<Figure size 640x480 with 1 Axes>"
            ]
          },
          "metadata": {},
          "output_type": "display_data"
        }
      ],
      "source": [
        "gerarHistograma(resultados)"
      ]
    },
    {
      "cell_type": "markdown",
      "metadata": {
        "id": "syq86ZR7r-3r"
      },
      "source": [
        "#### Testes de 10.000 amostras com 10.000 valores aleatórios\n",
        "\n",
        "---"
      ]
    },
    {
      "cell_type": "code",
      "execution_count": 92,
      "metadata": {
        "id": "7jcZAOpgqoI3"
      },
      "outputs": [],
      "source": [
        "resultados: list[float] = calcularAmostrasTerceiraIntegral(\n",
        "    quantidadeAmostras = 10000,\n",
        "    quantidadeNumerosAleatorios = 10000\n",
        ")"
      ]
    },
    {
      "cell_type": "code",
      "execution_count": 93,
      "metadata": {
        "colab": {
          "base_uri": "https://localhost:8080/"
        },
        "id": "Jpp9tyU5qkeh",
        "outputId": "07648ef5-1833-4591-bb70-fc4fdcf8ef37"
      },
      "outputs": [
        {
          "name": "stdout",
          "output_type": "stream",
          "text": [
            "Média: 0.8627409938464662\n",
            "Desvio Padrão: 0.0069049620518020945\n",
            "Erro Estatístico: 6.904962051802094e-05\n"
          ]
        }
      ],
      "source": [
        "printEstatisticas(resultados)"
      ]
    },
    {
      "cell_type": "code",
      "execution_count": 94,
      "metadata": {
        "colab": {
          "base_uri": "https://localhost:8080/",
          "height": 469
        },
        "id": "X-k5f2WQqmfC",
        "outputId": "4688c328-a35b-45ce-ebab-59363d547df1"
      },
      "outputs": [
        {
          "data": {
            "image/png": "[encoded data removed]",
            "text/plain": [
              "<Figure size 640x480 with 1 Axes>"
            ]
          },
          "metadata": {},
          "output_type": "display_data"
        }
      ],
      "source": [
        "gerarHistograma(resultados)"
      ]
    },
    {
      "cell_type": "markdown",
      "metadata": {
        "id": "63r9f-cTeCKf"
      },
      "source": [
        "#### Análise dos resultados\n",
        "\n",
        "---\n",
        "\n",
        "**10 Valores aleatórios:**\n",
        "* Média: 0.9107430136514919\n",
        "* Desvio Padrão: 0.19191948078062634\n",
        "* Erro Estatístico: 0.06069026866236893\n",
        "\n",
        "**10.000 Valores aleatórios:**\n",
        "* Média: 0.8627409938464662\n",
        "* Desvio Padrão: 0.0069049620518020945\n",
        "* Erro Estatístico: 6.904962051802094e-05\n",
        "\n",
        "Novamente, conforme esperado, conseguimos ver que a Lei dos Grandes Números é algo que o método de Monte Carlo tira como vantagem para conseguir obter valores cada vez mais precisos.\n",
        "\n",
        "Quando realizamos estimativas com apenas 10 valores aleatórios e 10 amostras, nós obtemos um resultado bem ruim e com um erro estatístico bem alto. Por outro lado, quando realizamos testes com muitos números aleatórios e amostras, nós conseguimos chegar em valores bem precisos.\n",
        "\n",
        "Uma ótima vantagem desse método, além da sua implementação simples, é que ele consegue ser utilizado para uma quantidade de \"n\" dimensões, tornando-o bem flexível."
      ]
    }
  ],
  "metadata": {
    "colab": {
      "provenance": []
    },
    "kernelspec": {
      "display_name": "Python 3",
      "name": "python3"
    },
    "language_info": {
      "name": "python"
    }
  },
  "nbformat": 4,
  "nbformat_minor": 0
}
